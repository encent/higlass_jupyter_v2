{
 "cells": [
  {
   "cell_type": "code",
   "execution_count": 3,
   "id": "c541ba4e",
   "metadata": {},
   "outputs": [],
   "source": [
    "import os\n",
    "import sys\n",
    "import warnings\n",
    "warnings.filterwarnings(\"ignore\")\n",
    "\n",
    "import cooler\n",
    "import hg"
   ]
  },
  {
   "cell_type": "markdown",
   "id": "7e78d8f5",
   "metadata": {},
   "source": [
    "### One sample view:"
   ]
  },
  {
   "cell_type": "markdown",
   "id": "aad6ce0b-9ca6-4b99-ba36-37e174d1cef4",
   "metadata": {},
   "source": [
    "This is a one sample view example. It assumes that you want to visualize **only one Hi-C map** with multiple bigWig tracks. Simply provide a correct path to the files you want to visualize (`.cool` or `.bw`). \n",
    "\n",
    "In this example I use variable `sample` with the sample prefix in order to construct the file paths. If you don't have this `sample` reference in your file names, then remove this variable and its references in the cell below.\n",
    "\n",
    "If you don't need some of the bigWig tracks in your HiGlass visualization, comment the coresponding lines in the cells bellow with the `#` character."
   ]
  },
  {
   "cell_type": "code",
   "execution_count": 27,
   "id": "7c2667bc",
   "metadata": {},
   "outputs": [],
   "source": [
    "# Sample prefix (optional). If you don't need this `sample` prefix in your filenames, remove its references in the filenames below\n",
    "sample = \"19\"\n",
    "\n",
    "# Insert a path to your cool file:\n",
    "hic_tileset = hg.cooler(f'../{sample}_5_shallow_nrm_full_500kb_02d080a4db.mcool')\n",
    "\n",
    "# If you want to visualize bigWig files with ATAC-Seq peaks, provide path to them; otherwise comment out these lines:\n",
    "atac_peaks_tileset_1 = hg.bigwig(f'../../../09_ATAC-seq/ATAC_organoids_shallow_Alex_analysis/ATAC_peaks_txt/bw/{sample}_r1_atac_peaks.bw')\n",
    "atac_peaks_tileset_2 = hg.bigwig(f'../../../09_ATAC-seq/ATAC_organoids_shallow_Alex_analysis/ATAC_peaks_txt/bw/{sample}_r2_atac_peaks.bw')\n",
    "\n",
    "# If you want to visualize bigWig file with ATAC-Seq data, provide path to it; otherwise comment out this line:\n",
    "atac_tileset_1 = hg.bigwig(f'../../../09_ATAC-seq/ATAC_organoids_shallow_Alex_analysis/{sample}/{sample}_r1_atac.bw')\n",
    "\n",
    "# If you want to visualize TAD annotation in bedpedb format, provide path to it; otherwise somment out this line:\n",
    "tad_tileset = hg.bed2ddb(f'tracks_for_higlass/{sample}_tads.bedpedb')\n",
    "\n",
    "# If you want to visualize compartments annotation, provide path to the corresponding files; otherwise comment out these lines:\n",
    "compartment_E1_tileset = hg.bigwig(f'tracks_for_higlass/{sample}_compartments_E1.bw')\n",
    "compartment_A_tileset = hg.bigwig(f'tracks_for_higlass/{sample}_compartments_A.bw')\n",
    "compartment_B_tileset = hg.bigwig(f'tracks_for_higlass/{sample}_compartments_B.bw')\n"
   ]
  },
  {
   "cell_type": "markdown",
   "id": "14e8e7fa-9077-44a6-a7ca-4a6dd2d6a079",
   "metadata": {},
   "source": [
    "In this cell we are going to run a HiGlass widget to visualize files provided in the cell above: "
   ]
  },
  {
   "cell_type": "code",
   "execution_count": 28,
   "id": "7f2b1c4b",
   "metadata": {
    "scrolled": true
   },
   "outputs": [
    {
     "data": {
      "application/vnd.jupyter.widget-view+json": {
       "model_id": "839e00a43f4945b19469fa4687a244b6",
       "version_major": 2,
       "version_minor": 0
      },
      "text/plain": [
       "HiGlassWidget()"
      ]
     },
     "execution_count": 28,
     "metadata": {},
     "output_type": "execute_result"
    }
   ],
   "source": [
    "hg.view(\n",
    "        # Here you have the Hi-C map visualization - with the vertical and horizontal chromosome labels:\n",
    "        (hic_tileset.track(\"horizontal-chromosome-labels\"), \"top\"),\n",
    "        (hic_tileset.track(\"vertical-chromosome-labels\"), \"left\"),\n",
    "        (hic_tileset.track(\"heatmap\"), \"center\"),\n",
    "        # Here you have the ATAC-Seq peaks visualization - both vertical and horizontal (comment out if you don't need it):\n",
    "        (atac_peaks_tileset_1.track(\"bar\", options={\"label\": \"ATAC-Seq\"}), \"top\"),\n",
    "        (atac_peaks_tileset_1.track(\"bar\", options={\"label\": \"ATAC-Seq\"}), \"left\"),\n",
    "        (atac_peaks_tileset_2.track(\"bar\", options={\"label\": \"ATAC-Seq\"}), \"top\"),\n",
    "        (atac_peaks_tileset_2.track(\"bar\", options={\"label\": \"ATAC-Seq\"}), \"left\"),\n",
    "        # Here you have the ATAC-Seq data visualization - both vertical and horizontal (comment out if you don't need it):\n",
    "        (atac_tileset_1.track(\"line\", options={\"label\": \"ATAC-Seq\"}), \"top\"),\n",
    "        (atac_tileset_1.track(\"line\", options={\"label\": \"ATAC-Seq\"}), \"left\"),\n",
    "        # Here you have the compartments visualization - both vertical and horizontal (comment out if you don't need it):\n",
    "        (compartment_E1_tileset.track(\"line\", options={\"label\": \"comp E1\"}), \"top\"),\n",
    "        (compartment_E1_tileset.track(\"line\", options={\"label\": \"comp E1\"}), \"left\"),\n",
    "        (compartment_A_tileset.track(\"bar\", options={\"label\": \"comp A\"}), \"top\"),\n",
    "        (compartment_A_tileset.track(\"bar\", options={\"label\": \"comp A\"}), \"left\"),\n",
    "        (compartment_B_tileset.track(\"bar\", options={\"label\": \"comp B\"}), \"top\"),\n",
    "        (compartment_B_tileset.track(\"bar\", options={\"label\": \"comp B\"}), \"left\"),\n",
    "        # Here you have the TADs visualization - both vertical and horizontal (comment out if you don't need it):\n",
    "        (tad_tileset.track(\"2d-rectangle-domains\"), \"center\"),\n",
    "       ).widget()"
   ]
  },
  {
   "cell_type": "markdown",
   "id": "259b0f4f",
   "metadata": {},
   "source": [
    "### Multiple samples view:"
   ]
  },
  {
   "cell_type": "markdown",
   "id": "98d0d2bd-c38c-47b8-924a-859ba7e447b7",
   "metadata": {},
   "source": [
    "This is a multiple sample view example. It assumes that you want to visualize **multiple Hi-C maps** with multiple bigWig tracks. Simply provide a correct path to the files you want to visualize (`.cool` or `.bw`) and prefixes in the `samples` list. \n",
    "\n",
    "If you don't need some of the bigWig tracks in your HiGlass visualization, comment the coresponding lines in the cells bellow with the `#` character.\n",
    "\n",
    "If you want to add some more bigWig tracks, copy them from the `one sample` view, paste them in the cells below and adapt for `multiple sample` view."
   ]
  },
  {
   "cell_type": "code",
   "execution_count": 35,
   "id": "3b27e5bf",
   "metadata": {},
   "outputs": [],
   "source": [
    "samples = [\"19\", \"20\"]\n",
    "\n",
    "hic_tilesets = dict.fromkeys(samples, None)\n",
    "atac_tilesets = dict.fromkeys(samples, None)\n",
    "tad_tilesets = dict.fromkeys(samples, None)\n",
    "compartment_E1_tilesets = dict.fromkeys(samples, None)\n",
    "compartment_A_tilesets = dict.fromkeys(samples, None)\n",
    "compartment_B_tilesets = dict.fromkeys(samples, None)\n",
    "\n",
    "for sample in samples:\n",
    "    hic_tilesets[sample] = hg.cooler(f'../{sample}_5_shallow_nrm_full_500kb_02d080a4db.mcool')\n",
    "    atac_tilesets[sample] = hg.bigwig(f'../../../09_ATAC-seq/ATAC_organoids_shallow_Alex_analysis/ATAC_peaks_txt/bw/{sample}_r1_atac_peaks.bw')\n",
    "    tad_tilesets[sample] = hg.bed2ddb(f'tracks_for_higlass/{sample}_tads.bedpedb')\n",
    "    compartment_E1_tilesets[sample] = hg.bigwig(f'tracks_for_higlass/{sample}_compartments_E1.bw')\n",
    "    compartment_A_tilesets[sample] = hg.bigwig(f'tracks_for_higlass/{sample}_compartments_A.bw')\n",
    "    compartment_B_tilesets[sample] = hg.bigwig(f'tracks_for_higlass/{sample}_compartments_B.bw')\n"
   ]
  },
  {
   "cell_type": "markdown",
   "id": "6cf6aef4-5244-4907-91ea-c775571e3a2e",
   "metadata": {},
   "source": [
    "In this cell we are going to run a HiGlass widget to visualize files provided in the cell above.\n",
    "\n",
    "Same as in the `one sample` view: if you don't need to visualize some of the bigWig files, simply comment out the corresponding lines:"
   ]
  },
  {
   "cell_type": "code",
   "execution_count": 45,
   "id": "84ab70b1",
   "metadata": {},
   "outputs": [],
   "source": [
    "views = dict.fromkeys(samples, None)\n",
    "\n",
    "for sample in samples:\n",
    "    view = hg.view(\n",
    "        (hic_tilesets[sample].track(\"horizontal-chromosome-labels\"), \"top\"),\n",
    "        (hic_tilesets[sample].track(\"vertical-chromosome-labels\"), \"left\"),\n",
    "        (hic_tilesets[sample].track(\"heatmap\"), \"center\"),\n",
    "        (atac_tilesets[sample].track(\"bar\", options={\"label\": \"ATAC-Seq\"}), \"top\"),\n",
    "        (atac_tilesets[sample].track(\"bar\", options={\"label\": \"ATAC-Seq\"}), \"left\"),\n",
    "        (compartment_E1_tilesets[sample].track(\"line\", options={\"label\": \"comp E1\"}), \"top\"),\n",
    "        (compartment_E1_tilesets[sample].track(\"line\", options={\"label\": \"comp E1\"}), \"left\"),\n",
    "        (compartment_A_tilesets[sample].track(\"bar\", options={\"label\": \"comp A\"}), \"top\"),\n",
    "        (compartment_A_tilesets[sample].track(\"bar\", options={\"label\": \"comp A\"}), \"left\"),\n",
    "        (compartment_B_tilesets[sample].track(\"bar\", options={\"label\": \"comp B\"}), \"top\"),\n",
    "        (compartment_B_tilesets[sample].track(\"bar\", options={\"label\": \"comp B\"}), \"left\"),\n",
    "        (tad_tilesets[sample].track(\"2d-rectangle-domains\"), \"center\"),\n",
    "       )\n",
    "    views[sample] = view\n"
   ]
  },
  {
   "cell_type": "markdown",
   "id": "d464f288-7408-460f-8926-cccb086e55a4",
   "metadata": {},
   "source": [
    "Here in the `views['XX']` introduce your sample prefixes. If you have more than two sample prefixes, simply add them to the list, separated by the comma `,` in the first line and by the vertical bar `|` in the second line: "
   ]
  },
  {
   "cell_type": "code",
   "execution_count": null,
   "id": "2fef3d12",
   "metadata": {},
   "outputs": [],
   "source": [
    "view_lock = hg.lock(views['19'], views['20'])\n",
    "(views['19'] | views['20']).locks(view_lock).widget()"
   ]
  },
  {
   "cell_type": "code",
   "execution_count": null,
   "id": "96d72d69-e672-4dd8-b419-14707f263f2f",
   "metadata": {},
   "outputs": [],
   "source": []
  }
 ],
 "metadata": {
  "kernelspec": {
   "display_name": "Python 3 (ipykernel)",
   "language": "python",
   "name": "python3"
  },
  "language_info": {
   "codemirror_mode": {
    "name": "ipython",
    "version": 3
   },
   "file_extension": ".py",
   "mimetype": "text/x-python",
   "name": "python",
   "nbconvert_exporter": "python",
   "pygments_lexer": "ipython3",
   "version": "3.11.6"
  }
 },
 "nbformat": 4,
 "nbformat_minor": 5
}
